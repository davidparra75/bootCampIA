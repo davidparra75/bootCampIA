{
 "cells": [
  {
   "cell_type": "markdown",
   "id": "bcc603f3",
   "metadata": {},
   "source": [
    "# Algoritmo de naive Bayes nlp clasificacion supervisada"
   ]
  },
  {
   "cell_type": "code",
   "execution_count": 39,
   "id": "026da192",
   "metadata": {},
   "outputs": [],
   "source": [
    "data = [\n",
    "    (\"Hola\", \"saludo\"),\n",
    "    (\"Buenos días\", \"saludo\"),\n",
    "    (\"Buenas tardes\", \"saludo\"),\n",
    "    (\"¿Cómo estás?\", \"saludo\"),\n",
    "    (\"¿Qué tal?\", \"saludo\"),\n",
    "    (\"Quisiera hacer una queja\", \"queja\"),\n",
    "    (\"No estoy satisfecho con el servicio\", \"queja\"),\n",
    "    (\"El producto llegó dañado\", \"queja\"),\n",
    "    (\"No me gustó el producto\", \"queja\"),\n",
    "    (\"Necesito reclamar por un error\", \"reclamo\"),\n",
    "    (\"Quiero hacer un reclamo\", \"reclamo\"),\n",
    "    (\"Esto es inaceptable, quiero una solución\", \"reclamo\"),\n",
    "    (\"Me gustaría pedir información\", \"peticion\"),\n",
    "    (\"Necesito saber más detalles sobre el producto\", \"peticion\"),\n",
    "    (\"Por favor, envíenme más información\", \"peticion\"),\n",
    "    (\"¿Me pueden ayudar con información?\", \"peticion\"),\n",
    "    (\"Adiós\", \"despedida\"),\n",
    "    (\"Hasta luego\", \"despedida\"),\n",
    "    (\"Nos vemos\", \"despedida\"),\n",
    "    (\"Chao\", \"despedida\"),\n",
    "    (\"Gracias por tu ayuda\", \"despedida\"),\n",
    "    (\"Quiero un producto\", \"peticion\"),\n",
    "    (\"Me gustaría comprar un producto\", \"peticion\"),\n",
    "    (\"¿Tienen disponible el producto?\", \"peticion\"),\n",
    "    (\"¿Puedo pedir un producto?\", \"peticion\"),\n",
    "    (\"Estoy interesado en un producto\", \"peticion\"),\n",
    "    (\"¿Cómo puedo adquirir el producto?\", \"peticion\"),\n",
    "    (\"El producto está defectuoso\", \"reclamo\"),\n",
    "    (\"No recibí el producto correcto\", \"reclamo\"),\n",
    "    (\"El producto no funciona\", \"reclamo\"),\n",
    "]"
   ]
  },
  {
   "cell_type": "markdown",
   "id": "2df7cff7",
   "metadata": {},
   "source": [
    "# Paso 2 Crear un diccionario de palabras y calcular frecuencias"
   ]
  },
  {
   "cell_type": "code",
   "execution_count": 40,
   "id": "cf0ba699",
   "metadata": {},
   "outputs": [
    {
     "name": "stdout",
     "output_type": "stream",
     "text": [
      "total_wordsdefaultdict(<class 'int'>, {'saludo': 9, 'queja': 19, 'reclamo': 28, 'peticion': 47, 'despedida': 10})total_phrase30\n"
     ]
    }
   ],
   "source": [
    "from collections import defaultdict\n",
    "#crear un diccionario para contar palabras por categoria\n",
    "word_freq=defaultdict(lambda:defaultdict(int))\n",
    "category_freq=defaultdict(int)\n",
    "for phrase, label in data:\n",
    "    words = phrase.lower().split()\n",
    "    category_freq[label]+=1\n",
    "    for word in words:\n",
    "        word_freq[label][word]+=1\n",
    "#calcular la frecuencia total de palabras en cada categoria\n",
    "total_words=defaultdict(int)\n",
    "for label in word_freq:\n",
    "    total_words[label]=sum(word_freq[label].values())\n",
    "#Numero total de frases\n",
    "total_phrase = len(data)\n",
    "\n",
    "print(f\"total_words{total_words}total_phrase{total_phrase}\")\n"
   ]
  },
  {
   "cell_type": "code",
   "execution_count": 41,
   "id": "907045ce",
   "metadata": {},
   "outputs": [
    {
     "name": "stdout",
     "output_type": "stream",
     "text": [
      "1\n"
     ]
    }
   ],
   "source": [
    "#frecuencia de la palabra hola en la categoria saludo\n",
    "print(word_freq[\"saludo\"][\"hola\"])"
   ]
  },
  {
   "cell_type": "markdown",
   "id": "0e25bd55",
   "metadata": {},
   "source": [
    "# Paso 3: Implementar el clasificador Naive Bayes"
   ]
  },
  {
   "cell_type": "code",
   "execution_count": 42,
   "id": "d50f8bbf",
   "metadata": {},
   "outputs": [],
   "source": [
    "import math\n",
    "\n",
    "def classify(phrase):\n",
    "    words = phrase.lower().split()\n",
    "    category_scores={}\n",
    "    for category in category_freq:\n",
    "        #probabilidad a priori: log(p|c)\n",
    "        category_scores[category]=math.log(category_freq[category]/total_phrase)\n",
    "        for word in words:\n",
    "            #conteo de palabras en esa categoria\n",
    "            word_count = word_freq[category].get(word,0)\n",
    "            #tamaño del vocabulario total\n",
    "            vocab_size=len(set(word for label in word_freq for word in word_freq[label]))\n",
    "            #aplicamos suavizado de laplace: P(word|category)\n",
    "            prob=(word_count+1)/(total_words[category]+vocab_size)\n",
    "            #sumamos el logaritmo de la probabilidad\n",
    "            category_scores[category]+=math.log(prob)\n",
    "    return max(category_scores,key=category_scores.get)"
   ]
  },
  {
   "cell_type": "code",
   "execution_count": 43,
   "id": "27704d74",
   "metadata": {},
   "outputs": [
    {
     "name": "stdout",
     "output_type": "stream",
     "text": [
      "saludo\n"
     ]
    }
   ],
   "source": [
    "print(classify(\"hola como estas\"))"
   ]
  },
  {
   "cell_type": "code",
   "execution_count": 44,
   "id": "f366d6cb",
   "metadata": {},
   "outputs": [],
   "source": [
    "respuestas = {\n",
    "    \"saludo\":\"hola en que puedo ayudarte\",\n",
    "    \"despedida\":\"Hasta luego que tengas un buen dia\",\n",
    "    \"queja\":\"Lamentamos lo sucedido, como podemos enmendar el error\",\n",
    "    \"reclamo\":\"entiendo, vamos a tomarlo en cuenta\",\n",
    "    \"peticion\":\"con gusto dime que informacion necesitas?\",\n",
    "}"
   ]
  },
  {
   "cell_type": "code",
   "execution_count": 45,
   "id": "5ff3a6e5",
   "metadata": {},
   "outputs": [
    {
     "name": "stdout",
     "output_type": "stream",
     "text": [
      "Chatbot: Escribe salir para terminar la coversaion\n",
      "Chatbot:(saludo) hola en que puedo ayudarte\n",
      "Chatbot:(peticion) con gusto dime que informacion necesitas?\n",
      "Chatbot:(reclamo) entiendo, vamos a tomarlo en cuenta\n",
      "Chatbot: Hasta luego\n"
     ]
    }
   ],
   "source": [
    "#chatbot\n",
    "print(\"Chatbot: Escribe salir para terminar la coversaion\")\n",
    "while True:\n",
    "    user_input = input(\"Tu:\")\n",
    "    if user_input.lower()=='salir':\n",
    "        print(\"Chatbot: Hasta luego\")\n",
    "        break\n",
    "    categoria=classify(user_input)\n",
    "    respuesta = respuestas.get(categoria,\"lo siento no entiendo tu mensaje\")\n",
    "    print(f\"Chatbot:({categoria}) {respuesta}\")    "
   ]
  }
 ],
 "metadata": {
  "kernelspec": {
   "display_name": ".venv",
   "language": "python",
   "name": "python3"
  },
  "language_info": {
   "codemirror_mode": {
    "name": "ipython",
    "version": 3
   },
   "file_extension": ".py",
   "mimetype": "text/x-python",
   "name": "python",
   "nbconvert_exporter": "python",
   "pygments_lexer": "ipython3",
   "version": "3.13.5"
  }
 },
 "nbformat": 4,
 "nbformat_minor": 5
}
