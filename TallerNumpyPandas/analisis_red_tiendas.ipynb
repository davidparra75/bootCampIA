{
 "cells": [
  {
   "cell_type": "markdown",
   "id": "70249a2a",
   "metadata": {},
   "source": [
    "## Importar Librerias"
   ]
  },
  {
   "cell_type": "code",
   "execution_count": 1,
   "id": "ee65dffb",
   "metadata": {},
   "outputs": [],
   "source": [
    "# importar librerias\n",
    "\n",
    "import pandas as pd\n",
    "import numpy as np\n",
    "import matplotlib.pyplot as plt"
   ]
  },
  {
   "cell_type": "markdown",
   "id": "ef22ce2b",
   "metadata": {},
   "source": [
    "## Importar Datasets"
   ]
  },
  {
   "cell_type": "code",
   "execution_count": 2,
   "id": "63c3c87f",
   "metadata": {},
   "outputs": [],
   "source": [
    "inventory = pd.read_csv(\"inventarios.csv\")\n",
    "satisfaction = pd.read_csv(\"satisfaccion.csv\")\n",
    "sales = pd.read_csv(\"ventas.csv\")"
   ]
  },
  {
   "cell_type": "markdown",
   "id": "8d7676ec",
   "metadata": {},
   "source": [
    "## Mostrar las primeras filas"
   ]
  },
  {
   "cell_type": "code",
   "execution_count": 11,
   "id": "88c35112",
   "metadata": {},
   "outputs": [
    {
     "name": "stdout",
     "output_type": "stream",
     "text": [
      "===ventas===\n",
      "   ID_Tienda    Producto  Cantidad_Vendida  Precio_Unitario Fecha_Venta\n",
      "0          1  Producto A                20              100  2023-01-05\n",
      "1          1  Producto B                15              200  2023-01-06\n",
      "2          2  Producto A                30              100  2023-01-07\n",
      "3          2  Producto C                25              300  2023-01-08\n",
      "4          3  Producto A                10              100  2023-01-09\n",
      "5          3  Producto B                40              200  2023-01-10\n",
      "6          4  Producto C                35              300  2023-01-11\n",
      "7          4  Producto A                25              100  2023-01-12\n",
      "8          5  Producto B                20              200  2023-01-13\n",
      "9          5  Producto C                30              300  2023-01-14 \n",
      "\n",
      "===inventarios===\n",
      "   ID_Tienda    Producto  Stock_Disponible Fecha_Actualización\n",
      "0          1  Producto A                50          2023-01-05\n",
      "1          1  Producto B                40          2023-01-06\n",
      "2          2  Producto A                60          2023-01-07\n",
      "3          2  Producto C                45          2023-01-08\n",
      "4          3  Producto A                30          2023-01-09\n",
      "5          3  Producto B                80          2023-01-10\n",
      "6          4  Producto C                70          2023-01-11\n",
      "7          4  Producto A                50          2023-01-12\n",
      "8          5  Producto B                40          2023-01-13\n",
      "9          5  Producto C                60          2023-01-14 \n",
      "\n",
      "===Satisfaccion===\n",
      "   ID_Tienda  Satisfacción_Promedio Fecha_Evaluación\n",
      "0          1                     85       2023-01-15\n",
      "1          2                     90       2023-01-15\n",
      "2          3                     70       2023-01-15\n",
      "3          4                     65       2023-01-15\n",
      "4          5                     55       2023-01-15 \n",
      "\n"
     ]
    }
   ],
   "source": [
    "print(\"===ventas===\")\n",
    "print(sales.head(10),\"\\n\")\n",
    "print(\"===inventarios===\")\n",
    "print(inventory.head(10),\"\\n\")\n",
    "print(\"===Satisfaccion===\")\n",
    "print(satisfaction.head(10),\"\\n\")"
   ]
  },
  {
   "cell_type": "markdown",
   "id": "d3defbb1",
   "metadata": {},
   "source": [
    "## Del dataset hacer una matriz con numpy"
   ]
  },
  {
   "cell_type": "code",
   "execution_count": 8,
   "id": "5a3f66be",
   "metadata": {},
   "outputs": [
    {
     "name": "stdout",
     "output_type": "stream",
     "text": [
      "[[1 'Producto A' 50 '2023-01-05']\n",
      " [1 'Producto B' 40 '2023-01-06']\n",
      " [2 'Producto A' 60 '2023-01-07']\n",
      " [2 'Producto C' 45 '2023-01-08']\n",
      " [3 'Producto A' 30 '2023-01-09']\n",
      " [3 'Producto B' 80 '2023-01-10']\n",
      " [4 'Producto C' 70 '2023-01-11']\n",
      " [4 'Producto A' 50 '2023-01-12']\n",
      " [5 'Producto B' 40 '2023-01-13']\n",
      " [5 'Producto C' 60 '2023-01-14']]\n"
     ]
    }
   ],
   "source": [
    "inventory['ID_Tienda']\n",
    "inventoryDataset = inventory.iloc[:].values\n",
    "print(inventoryDataset)"
   ]
  },
  {
   "cell_type": "markdown",
   "id": "1c093b4c",
   "metadata": {},
   "source": [
    "## limpiar datos(eliminar filas con valores nulos)"
   ]
  },
  {
   "cell_type": "code",
   "execution_count": 12,
   "id": "8bc6ce26",
   "metadata": {},
   "outputs": [],
   "source": [
    "sales = sales.dropna()\n",
    "inventory = inventory.dropna()\n",
    "satisfaction = satisfaction.dropna()\n"
   ]
  },
  {
   "cell_type": "markdown",
   "id": "226f6843",
   "metadata": {},
   "source": [
    "# analisis de ventas totales"
   ]
  },
  {
   "cell_type": "code",
   "execution_count": 13,
   "id": "157e534d",
   "metadata": {},
   "outputs": [
    {
     "name": "stdout",
     "output_type": "stream",
     "text": [
      "   ID_Tienda    Producto  Cantidad_Vendida  Precio_Unitario Fecha_Venta  \\\n",
      "0          1  Producto A                20              100  2023-01-05   \n",
      "1          1  Producto B                15              200  2023-01-06   \n",
      "2          2  Producto A                30              100  2023-01-07   \n",
      "3          2  Producto C                25              300  2023-01-08   \n",
      "4          3  Producto A                10              100  2023-01-09   \n",
      "5          3  Producto B                40              200  2023-01-10   \n",
      "6          4  Producto C                35              300  2023-01-11   \n",
      "7          4  Producto A                25              100  2023-01-12   \n",
      "8          5  Producto B                20              200  2023-01-13   \n",
      "9          5  Producto C                30              300  2023-01-14   \n",
      "\n",
      "   Ventas_Totales  \n",
      "0            2000  \n",
      "1            3000  \n",
      "2            3000  \n",
      "3            7500  \n",
      "4            1000  \n",
      "5            8000  \n",
      "6           10500  \n",
      "7            2500  \n",
      "8            4000  \n",
      "9            9000  \n",
      "   ID_Tienda  Ventas_Totales\n",
      "0          1            5000\n",
      "1          2           10500\n",
      "2          3            9000\n",
      "3          4           13000\n",
      "4          5           13000\n"
     ]
    }
   ],
   "source": [
    "sales[\"Ventas_Totales\"] = sales[\"Cantidad_Vendida\"]*sales[\"Precio_Unitario\"]\n",
    "print(sales)\n",
    "\n",
    "total_sales = sales.groupby(\"ID_Tienda\")[\"Ventas_Totales\"].sum().reset_index()\n",
    "print(total_sales)"
   ]
  },
  {
   "cell_type": "markdown",
   "id": "91f03f43",
   "metadata": {},
   "source": [
    "## rotacion de inventario"
   ]
  },
  {
   "cell_type": "code",
   "execution_count": 20,
   "id": "df462b28",
   "metadata": {},
   "outputs": [
    {
     "name": "stdout",
     "output_type": "stream",
     "text": [
      "   ID_Tienda    Producto  Cantidad_Vendida  Precio_Unitario Fecha_Venta  \\\n",
      "0          1  Producto A                20              100  2023-01-05   \n",
      "1          1  Producto B                15              200  2023-01-06   \n",
      "2          2  Producto A                30              100  2023-01-07   \n",
      "3          2  Producto C                25              300  2023-01-08   \n",
      "4          3  Producto A                10              100  2023-01-09   \n",
      "5          3  Producto B                40              200  2023-01-10   \n",
      "6          4  Producto C                35              300  2023-01-11   \n",
      "7          4  Producto A                25              100  2023-01-12   \n",
      "8          5  Producto B                20              200  2023-01-13   \n",
      "9          5  Producto C                30              300  2023-01-14   \n",
      "\n",
      "   Ventas_Totales  Stock_Disponible Fecha_Actualización  \n",
      "0            2000                50          2023-01-05  \n",
      "1            3000                40          2023-01-06  \n",
      "2            3000                60          2023-01-07  \n",
      "3            7500                45          2023-01-08  \n",
      "4            1000                30          2023-01-09  \n",
      "5            8000                80          2023-01-10  \n",
      "6           10500                70          2023-01-11  \n",
      "7            2500                50          2023-01-12  \n",
      "8            4000                40          2023-01-13  \n",
      "9            9000                60          2023-01-14  \n",
      "   ID_Tienda    Producto  Cantidad_Vendida  Precio_Unitario Fecha_Venta  \\\n",
      "0          1  Producto A                20              100  2023-01-05   \n",
      "1          1  Producto B                15              200  2023-01-06   \n",
      "2          2  Producto A                30              100  2023-01-07   \n",
      "3          2  Producto C                25              300  2023-01-08   \n",
      "4          3  Producto A                10              100  2023-01-09   \n",
      "5          3  Producto B                40              200  2023-01-10   \n",
      "6          4  Producto C                35              300  2023-01-11   \n",
      "7          4  Producto A                25              100  2023-01-12   \n",
      "8          5  Producto B                20              200  2023-01-13   \n",
      "9          5  Producto C                30              300  2023-01-14   \n",
      "\n",
      "   Ventas_Totales  Stock_Disponible Fecha_Actualización  Rotacion_inventario  \n",
      "0            2000                50          2023-01-05             0.400000  \n",
      "1            3000                40          2023-01-06             0.375000  \n",
      "2            3000                60          2023-01-07             0.500000  \n",
      "3            7500                45          2023-01-08             0.555556  \n",
      "4            1000                30          2023-01-09             0.333333  \n",
      "5            8000                80          2023-01-10             0.500000  \n",
      "6           10500                70          2023-01-11             0.500000  \n",
      "7            2500                50          2023-01-12             0.500000  \n",
      "8            4000                40          2023-01-13             0.500000  \n",
      "9            9000                60          2023-01-14             0.500000  \n"
     ]
    }
   ],
   "source": [
    "# merge es una comparacion de que esos 2 elementos son iguales\n",
    "#inner es la condicion de join\n",
    "sales_inventory = pd.merge(sales,inventory,on=[\"ID_Tienda\",\"Producto\"],how=\"inner\")\n",
    "print(sales_inventory)\n",
    "sales_inventory[\"Rotacion_inventario\"]=sales_inventory[\"Cantidad_Vendida\"]/sales_inventory[\"Stock_Disponible\"]\n",
    "print(sales_inventory)"
   ]
  },
  {
   "cell_type": "markdown",
   "id": "2005605e",
   "metadata": {},
   "source": [
    "# Generar resumen estadistico de las ventas"
   ]
  },
  {
   "cell_type": "code",
   "execution_count": 22,
   "id": "6fb0698c",
   "metadata": {},
   "outputs": [
    {
     "name": "stdout",
     "output_type": "stream",
     "text": [
      "       ID_Tienda  Cantidad_Vendida  Precio_Unitario  Ventas_Totales\n",
      "count  10.000000         10.000000        10.000000       10.000000\n",
      "mean    3.000000         25.000000       190.000000     5050.000000\n",
      "std     1.490712          9.128709        87.559504     3361.960407\n",
      "min     1.000000         10.000000       100.000000     1000.000000\n",
      "25%     2.000000         20.000000       100.000000     2625.000000\n",
      "50%     3.000000         25.000000       200.000000     3500.000000\n",
      "75%     4.000000         30.000000       275.000000     7875.000000\n",
      "max     5.000000         40.000000       300.000000    10500.000000\n"
     ]
    }
   ],
   "source": [
    "Estadisticas = sales.describe()\n",
    "print(Estadisticas)"
   ]
  },
  {
   "cell_type": "markdown",
   "id": "36e597d9",
   "metadata": {},
   "source": [
    "# calcula el promedio de ventas por tienda y categoría de productos"
   ]
  },
  {
   "cell_type": "code",
   "execution_count": 49,
   "id": "32923a96",
   "metadata": {},
   "outputs": [
    {
     "name": "stdout",
     "output_type": "stream",
     "text": [
      "   ID_Tienda  Ventas_Totales\n",
      "0          1          2500.0\n",
      "1          2          5250.0\n",
      "2          3          4500.0\n",
      "3          4          6500.0\n",
      "4          5          6500.0\n"
     ]
    }
   ],
   "source": [
    "total_sales = sales.groupby(\"ID_Tienda\")[\"Ventas_Totales\"].mean().reset_index()\n",
    "print(total_sales)"
   ]
  },
  {
   "cell_type": "code",
   "execution_count": 50,
   "id": "553fc9d0",
   "metadata": {},
   "outputs": [
    {
     "name": "stdout",
     "output_type": "stream",
     "text": [
      "     Producto  Ventas_Totales\n",
      "0  Producto A            8500\n",
      "1  Producto B           15000\n",
      "2  Producto C           27000\n"
     ]
    }
   ],
   "source": [
    "total_sales = sales.groupby(\"Producto\")[\"Ventas_Totales\"].sum().reset_index()\n",
    "print(total_sales)"
   ]
  },
  {
   "cell_type": "markdown",
   "id": "e5c14868",
   "metadata": {},
   "source": [
    "# Filtra y muestra las tiendas donde el porcentaje del productos vendidos sea menor a 10%"
   ]
  },
  {
   "cell_type": "code",
   "execution_count": 56,
   "id": "45385ee3",
   "metadata": {},
   "outputs": [
    {
     "data": {
      "text/html": [
       "<div>\n",
       "<style scoped>\n",
       "    .dataframe tbody tr th:only-of-type {\n",
       "        vertical-align: middle;\n",
       "    }\n",
       "\n",
       "    .dataframe tbody tr th {\n",
       "        vertical-align: top;\n",
       "    }\n",
       "\n",
       "    .dataframe thead th {\n",
       "        text-align: right;\n",
       "    }\n",
       "</style>\n",
       "<table border=\"1\" class=\"dataframe\">\n",
       "  <thead>\n",
       "    <tr style=\"text-align: right;\">\n",
       "      <th></th>\n",
       "      <th>ID_Tienda</th>\n",
       "      <th>Producto</th>\n",
       "      <th>Cantidad_Vendida</th>\n",
       "      <th>Precio_Unitario</th>\n",
       "      <th>Fecha_Venta</th>\n",
       "      <th>Ventas_Totales</th>\n",
       "      <th>Stock_Disponible</th>\n",
       "      <th>Fecha_Actualización</th>\n",
       "      <th>Rotacion_inventario</th>\n",
       "    </tr>\n",
       "  </thead>\n",
       "  <tbody>\n",
       "    <tr>\n",
       "      <th>0</th>\n",
       "      <td>1</td>\n",
       "      <td>Producto A</td>\n",
       "      <td>20</td>\n",
       "      <td>100</td>\n",
       "      <td>2023-01-05</td>\n",
       "      <td>2000</td>\n",
       "      <td>50</td>\n",
       "      <td>2023-01-05</td>\n",
       "      <td>0.400000</td>\n",
       "    </tr>\n",
       "    <tr>\n",
       "      <th>1</th>\n",
       "      <td>1</td>\n",
       "      <td>Producto B</td>\n",
       "      <td>15</td>\n",
       "      <td>200</td>\n",
       "      <td>2023-01-06</td>\n",
       "      <td>3000</td>\n",
       "      <td>40</td>\n",
       "      <td>2023-01-06</td>\n",
       "      <td>0.375000</td>\n",
       "    </tr>\n",
       "    <tr>\n",
       "      <th>2</th>\n",
       "      <td>2</td>\n",
       "      <td>Producto A</td>\n",
       "      <td>30</td>\n",
       "      <td>100</td>\n",
       "      <td>2023-01-07</td>\n",
       "      <td>3000</td>\n",
       "      <td>60</td>\n",
       "      <td>2023-01-07</td>\n",
       "      <td>0.500000</td>\n",
       "    </tr>\n",
       "    <tr>\n",
       "      <th>3</th>\n",
       "      <td>2</td>\n",
       "      <td>Producto C</td>\n",
       "      <td>25</td>\n",
       "      <td>300</td>\n",
       "      <td>2023-01-08</td>\n",
       "      <td>7500</td>\n",
       "      <td>45</td>\n",
       "      <td>2023-01-08</td>\n",
       "      <td>0.555556</td>\n",
       "    </tr>\n",
       "    <tr>\n",
       "      <th>4</th>\n",
       "      <td>3</td>\n",
       "      <td>Producto A</td>\n",
       "      <td>10</td>\n",
       "      <td>100</td>\n",
       "      <td>2023-01-09</td>\n",
       "      <td>1000</td>\n",
       "      <td>30</td>\n",
       "      <td>2023-01-09</td>\n",
       "      <td>0.333333</td>\n",
       "    </tr>\n",
       "    <tr>\n",
       "      <th>5</th>\n",
       "      <td>3</td>\n",
       "      <td>Producto B</td>\n",
       "      <td>40</td>\n",
       "      <td>200</td>\n",
       "      <td>2023-01-10</td>\n",
       "      <td>8000</td>\n",
       "      <td>80</td>\n",
       "      <td>2023-01-10</td>\n",
       "      <td>0.500000</td>\n",
       "    </tr>\n",
       "    <tr>\n",
       "      <th>6</th>\n",
       "      <td>4</td>\n",
       "      <td>Producto C</td>\n",
       "      <td>35</td>\n",
       "      <td>300</td>\n",
       "      <td>2023-01-11</td>\n",
       "      <td>10500</td>\n",
       "      <td>70</td>\n",
       "      <td>2023-01-11</td>\n",
       "      <td>0.500000</td>\n",
       "    </tr>\n",
       "    <tr>\n",
       "      <th>7</th>\n",
       "      <td>4</td>\n",
       "      <td>Producto A</td>\n",
       "      <td>25</td>\n",
       "      <td>100</td>\n",
       "      <td>2023-01-12</td>\n",
       "      <td>2500</td>\n",
       "      <td>50</td>\n",
       "      <td>2023-01-12</td>\n",
       "      <td>0.500000</td>\n",
       "    </tr>\n",
       "    <tr>\n",
       "      <th>8</th>\n",
       "      <td>5</td>\n",
       "      <td>Producto B</td>\n",
       "      <td>20</td>\n",
       "      <td>200</td>\n",
       "      <td>2023-01-13</td>\n",
       "      <td>4000</td>\n",
       "      <td>40</td>\n",
       "      <td>2023-01-13</td>\n",
       "      <td>0.500000</td>\n",
       "    </tr>\n",
       "    <tr>\n",
       "      <th>9</th>\n",
       "      <td>5</td>\n",
       "      <td>Producto C</td>\n",
       "      <td>30</td>\n",
       "      <td>300</td>\n",
       "      <td>2023-01-14</td>\n",
       "      <td>9000</td>\n",
       "      <td>60</td>\n",
       "      <td>2023-01-14</td>\n",
       "      <td>0.500000</td>\n",
       "    </tr>\n",
       "  </tbody>\n",
       "</table>\n",
       "</div>"
      ],
      "text/plain": [
       "   ID_Tienda    Producto  Cantidad_Vendida  Precio_Unitario Fecha_Venta  \\\n",
       "0          1  Producto A                20              100  2023-01-05   \n",
       "1          1  Producto B                15              200  2023-01-06   \n",
       "2          2  Producto A                30              100  2023-01-07   \n",
       "3          2  Producto C                25              300  2023-01-08   \n",
       "4          3  Producto A                10              100  2023-01-09   \n",
       "5          3  Producto B                40              200  2023-01-10   \n",
       "6          4  Producto C                35              300  2023-01-11   \n",
       "7          4  Producto A                25              100  2023-01-12   \n",
       "8          5  Producto B                20              200  2023-01-13   \n",
       "9          5  Producto C                30              300  2023-01-14   \n",
       "\n",
       "   Ventas_Totales  Stock_Disponible Fecha_Actualización  Rotacion_inventario  \n",
       "0            2000                50          2023-01-05             0.400000  \n",
       "1            3000                40          2023-01-06             0.375000  \n",
       "2            3000                60          2023-01-07             0.500000  \n",
       "3            7500                45          2023-01-08             0.555556  \n",
       "4            1000                30          2023-01-09             0.333333  \n",
       "5            8000                80          2023-01-10             0.500000  \n",
       "6           10500                70          2023-01-11             0.500000  \n",
       "7            2500                50          2023-01-12             0.500000  \n",
       "8            4000                40          2023-01-13             0.500000  \n",
       "9            9000                60          2023-01-14             0.500000  "
      ]
     },
     "execution_count": 56,
     "metadata": {},
     "output_type": "execute_result"
    }
   ],
   "source": [
    "sales_inventory"
   ]
  },
  {
   "cell_type": "code",
   "execution_count": 67,
   "id": "ee6abdc1",
   "metadata": {},
   "outputs": [
    {
     "data": {
      "text/html": [
       "<div>\n",
       "<style scoped>\n",
       "    .dataframe tbody tr th:only-of-type {\n",
       "        vertical-align: middle;\n",
       "    }\n",
       "\n",
       "    .dataframe tbody tr th {\n",
       "        vertical-align: top;\n",
       "    }\n",
       "\n",
       "    .dataframe thead th {\n",
       "        text-align: right;\n",
       "    }\n",
       "</style>\n",
       "<table border=\"1\" class=\"dataframe\">\n",
       "  <thead>\n",
       "    <tr style=\"text-align: right;\">\n",
       "      <th></th>\n",
       "      <th>ID_Tienda</th>\n",
       "      <th>Producto</th>\n",
       "      <th>porcentaje_vendido</th>\n",
       "      <th>porcentaje_stock</th>\n",
       "      <th>Critico</th>\n",
       "    </tr>\n",
       "  </thead>\n",
       "  <tbody>\n",
       "    <tr>\n",
       "      <th>0</th>\n",
       "      <td>1</td>\n",
       "      <td>Producto A</td>\n",
       "      <td>0.20</td>\n",
       "      <td>0.050</td>\n",
       "      <td>False</td>\n",
       "    </tr>\n",
       "    <tr>\n",
       "      <th>1</th>\n",
       "      <td>1</td>\n",
       "      <td>Producto B</td>\n",
       "      <td>0.15</td>\n",
       "      <td>0.040</td>\n",
       "      <td>False</td>\n",
       "    </tr>\n",
       "    <tr>\n",
       "      <th>2</th>\n",
       "      <td>2</td>\n",
       "      <td>Producto A</td>\n",
       "      <td>0.30</td>\n",
       "      <td>0.060</td>\n",
       "      <td>False</td>\n",
       "    </tr>\n",
       "    <tr>\n",
       "      <th>3</th>\n",
       "      <td>2</td>\n",
       "      <td>Producto C</td>\n",
       "      <td>0.25</td>\n",
       "      <td>0.045</td>\n",
       "      <td>False</td>\n",
       "    </tr>\n",
       "    <tr>\n",
       "      <th>4</th>\n",
       "      <td>3</td>\n",
       "      <td>Producto A</td>\n",
       "      <td>0.10</td>\n",
       "      <td>0.030</td>\n",
       "      <td>False</td>\n",
       "    </tr>\n",
       "    <tr>\n",
       "      <th>5</th>\n",
       "      <td>3</td>\n",
       "      <td>Producto B</td>\n",
       "      <td>0.40</td>\n",
       "      <td>0.080</td>\n",
       "      <td>False</td>\n",
       "    </tr>\n",
       "    <tr>\n",
       "      <th>6</th>\n",
       "      <td>4</td>\n",
       "      <td>Producto C</td>\n",
       "      <td>0.35</td>\n",
       "      <td>0.070</td>\n",
       "      <td>False</td>\n",
       "    </tr>\n",
       "    <tr>\n",
       "      <th>7</th>\n",
       "      <td>4</td>\n",
       "      <td>Producto A</td>\n",
       "      <td>0.25</td>\n",
       "      <td>0.050</td>\n",
       "      <td>False</td>\n",
       "    </tr>\n",
       "    <tr>\n",
       "      <th>8</th>\n",
       "      <td>5</td>\n",
       "      <td>Producto B</td>\n",
       "      <td>0.20</td>\n",
       "      <td>0.040</td>\n",
       "      <td>False</td>\n",
       "    </tr>\n",
       "    <tr>\n",
       "      <th>9</th>\n",
       "      <td>5</td>\n",
       "      <td>Producto C</td>\n",
       "      <td>0.30</td>\n",
       "      <td>0.060</td>\n",
       "      <td>False</td>\n",
       "    </tr>\n",
       "  </tbody>\n",
       "</table>\n",
       "</div>"
      ],
      "text/plain": [
       "   ID_Tienda    Producto  porcentaje_vendido  porcentaje_stock  Critico\n",
       "0          1  Producto A                0.20             0.050    False\n",
       "1          1  Producto B                0.15             0.040    False\n",
       "2          2  Producto A                0.30             0.060    False\n",
       "3          2  Producto C                0.25             0.045    False\n",
       "4          3  Producto A                0.10             0.030    False\n",
       "5          3  Producto B                0.40             0.080    False\n",
       "6          4  Producto C                0.35             0.070    False\n",
       "7          4  Producto A                0.25             0.050    False\n",
       "8          5  Producto B                0.20             0.040    False\n",
       "9          5  Producto C                0.30             0.060    False"
      ]
     },
     "execution_count": 67,
     "metadata": {},
     "output_type": "execute_result"
    }
   ],
   "source": [
    "inventarios = pd.DataFrame(sales_inventory, columns=[\"ID_Tienda\", \"Producto\"])\n",
    "inventarios[\"porcentaje_vendido\"] = sales_inventory[\"Cantidad_Vendida\"]/100\n",
    "inventarios[\"porcentaje_stock\"]= (sales_inventory[\"Stock_Disponible\"]*.10)/100\n",
    "inventarios[\"Critico\"]= inventarios[\"porcentaje_vendido\"]<inventarios[\"porcentaje_stock\"]\n",
    "inventarios\n"
   ]
  }
 ],
 "metadata": {
  "kernelspec": {
   "display_name": ".venv",
   "language": "python",
   "name": "python3"
  },
  "language_info": {
   "codemirror_mode": {
    "name": "ipython",
    "version": 3
   },
   "file_extension": ".py",
   "mimetype": "text/x-python",
   "name": "python",
   "nbconvert_exporter": "python",
   "pygments_lexer": "ipython3",
   "version": "3.13.5"
  }
 },
 "nbformat": 4,
 "nbformat_minor": 5
}
