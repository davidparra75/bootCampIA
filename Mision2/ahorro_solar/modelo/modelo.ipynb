{
 "cells": [
  {
   "cell_type": "code",
   "execution_count": null,
   "id": "d44b48fb",
   "metadata": {},
   "outputs": [],
   "source": [
    "#importar librerias \n",
    "import pandas as pd\n",
    "from sklearn.linear_model import LinearRegression\n",
    "from sklearn.model_selection import train_test_split\n",
    "import pickle"
   ]
  },
  {
   "cell_type": "code",
   "execution_count": null,
   "id": "9dc10aa8",
   "metadata": {},
   "outputs": [],
   "source": [
    "data = {\n",
    "    'ubicacion':['zona_1','zona_2','zona_1','zona_3','zona_2'],\n",
    "    'tamano_hogar':[3,4,2,5,3],\n",
    "    'costo_instalacion':[5000,6000,4500,7000,5200],\n",
    "    'energia_generada':[3000,3200,2500,4000,2900],\n",
    "    'ahorro_real':[1800,2000,1500,2300,1750]\n",
    "}\n",
    "\n",
    "df = pd.DataFrame(data)\n",
    "#separar variables\n",
    "x = df.drop(columns='ahorro_real')\n",
    "y = df['ahorro_real']\n",
    "\n",
    "#cofidicar variables categoricas\n",
    "x_encoded = pd.get_dummies(x)\n",
    "print(x_encoded)\n",
    "\n",
    "x_train,x_test,y_train,y_test=train_test_split(x_encoded,y,test_size=0.2,random_state=42)\n",
    "#entrenar modelo\n",
    "modelo=LinearRegression()\n",
    "modelo.fit(x_train,y_train)\n",
    "#guardar modelo\n",
    "with open('modelo.pkl', 'wb') as f:\n",
    "    pickle.dump(modelo,f)\n",
    "with open('columnas.pkl','wb') as c:\n",
    "    pickle.dump(modelo,c)"
   ]
  }
 ],
 "metadata": {
  "kernelspec": {
   "display_name": ".venv",
   "language": "python",
   "name": "python3"
  },
  "language_info": {
   "name": "python",
   "version": "3.13.5"
  }
 },
 "nbformat": 4,
 "nbformat_minor": 5
}
